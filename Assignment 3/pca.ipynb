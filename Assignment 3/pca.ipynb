{
 "cells": [
  {
   "cell_type": "markdown",
   "metadata": {},
   "source": [
    "# PCA - Prinicpal Component Analysis"
   ]
  },
  {
   "cell_type": "code",
   "execution_count": null,
   "metadata": {},
   "outputs": [],
   "source": [
    "# Importing packages\n",
    "import numpy as np\n",
    "import pandas as pd\n",
    "import matplotlib.pyplot as plt\n",
    "import seaborn as sns\n",
    "\n",
    "sns.set(style='whitegrid', context='notebook', rc={'figure.figsize':(14,10)})"
   ]
  },
  {
   "cell_type": "code",
   "execution_count": null,
   "metadata": {},
   "outputs": [],
   "source": [
    "from sklearn.preprocessing import StandardScaler\n",
    "from sklearn.decomposition import PCA"
   ]
  },
  {
   "cell_type": "code",
   "execution_count": null,
   "metadata": {},
   "outputs": [],
   "source": [
    "penguins = pd.read_csv(\n",
    "    \"https://raw.githubusercontent.com/allisonhorst/palmerpenguins/c19a904462482430170bfe2c718775ddb7dbb885/inst/extdata/penguins.csv\")\n",
    "\n",
    "penguins"
   ]
  },
  {
   "cell_type": "code",
   "execution_count": null,
   "metadata": {},
   "outputs": [],
   "source": [
    "# Creating a pairwise scatterplots of the variables\n",
    "\n",
    "sns.pairplot(data=penguins.drop('year', axis=1), hue='species')"
   ]
  },
  {
   "cell_type": "code",
   "execution_count": null,
   "metadata": {},
   "outputs": [],
   "source": [
    "penguins = penguins.dropna() # Removing NaN values\n",
    "penguins.species.value_counts()"
   ]
  },
  {
   "cell_type": "code",
   "execution_count": null,
   "metadata": {},
   "outputs": [],
   "source": [
    "data = penguins[ # Choosing only numerical features\n",
    "    [\n",
    "        \"bill_length_mm\",\n",
    "        \"bill_depth_mm\",\n",
    "        \"flipper_length_mm\",\n",
    "        \"body_mass_g\",\n",
    "    ]\n",
    "]\n",
    "scaled_penguin_data = StandardScaler().fit_transform(data)\n",
    "scaled_penguin_data.shape"
   ]
  },
  {
   "cell_type": "code",
   "execution_count": null,
   "metadata": {},
   "outputs": [],
   "source": [
    "pca = PCA() #Initializing the class\n",
    "pca.fit(scaled_penguin_data) "
   ]
  },
  {
   "cell_type": "code",
   "execution_count": null,
   "metadata": {},
   "outputs": [],
   "source": [
    "pca.components_"
   ]
  },
  {
   "cell_type": "code",
   "execution_count": null,
   "metadata": {},
   "outputs": [],
   "source": [
    "np.round(pca.components_@pca.components_.T)\n"
   ]
  },
  {
   "cell_type": "code",
   "execution_count": null,
   "metadata": {},
   "outputs": [],
   "source": [
    "pca.singular_values_"
   ]
  },
  {
   "cell_type": "code",
   "execution_count": null,
   "metadata": {},
   "outputs": [],
   "source": [
    "sns.barplot(\n",
    "    y = pca.explained_variance_ratio_,\n",
    "            x = [f'Component {i}' for i in range(data.shape[1])]\n",
    ")\n",
    "plt.title('Explained variance of the components', size=18)\n",
    "plt.xlabel('Components', size=15)\n",
    "plt.ylabel('Proportion of Explained Variance', size=15)"
   ]
  },
  {
   "cell_type": "code",
   "execution_count": null,
   "metadata": {},
   "outputs": [],
   "source": [
    "#Transforming data to lower dimensions\n",
    "transformed_penguins_data = pca.transform(scaled_penguin_data)\n",
    "transformed_penguins_data[:5]"
   ]
  },
  {
   "cell_type": "code",
   "execution_count": null,
   "metadata": {},
   "outputs": [],
   "source": [
    "# It is the same as multiplying with the components\n",
    "scaled_penguin_data[:5]@pca.components_.T"
   ]
  },
  {
   "cell_type": "code",
   "execution_count": null,
   "metadata": {},
   "outputs": [],
   "source": [
    "# Creating a dataframe for plotting\n",
    "transformed_penguins_df = pd.DataFrame(data = transformed_penguins_data, columns=[f'Component_{i}' for i in range(data.shape[1])])\n",
    "transformed_penguins_df['species'] = penguins.species\n",
    "transformed_penguins_df.sample(5)"
   ]
  },
  {
   "cell_type": "code",
   "execution_count": null,
   "metadata": {},
   "outputs": [],
   "source": [
    "# PCA Score Plot\n",
    "\n",
    "fig, ax = plt.subplots(figsize=(10,10))\n",
    "sns.scatterplot(\n",
    "    data = transformed_penguins_df,\n",
    "    x='Component_0',\n",
    "    y='Component_1',\n",
    "    hue = 'species',\n",
    "    s=200\n",
    ")\n",
    "ax.set_xlabel(f\"PC1 - {pca.explained_variance_ratio_[0]*100:.2f}%\")\n",
    "ax.set_ylabel(f\"PC2 - {pca.explained_variance_ratio_[1]*100:.2f}%\")\n",
    "ax.set_title(\"PCA Score Plot\")"
   ]
  },
  {
   "cell_type": "code",
   "execution_count": null,
   "metadata": {},
   "outputs": [],
   "source": [
    "# PCA Biplot\n",
    "\n",
    "# Gives information on where particular features are concentrated\n",
    "\n",
    "loadings = pca.components_\n",
    "pc1 = loadings[0]\n",
    "pc2 = loadings[1]\n",
    "\n",
    "for i, feature in enumerate(data.columns):\n",
    "    ax.arrow(x=0,y=0, dx=pc1[i], dy=pc2[i], color='r',\n",
    "             capstyle=\"projecting\",head_width=0.03, \n",
    "             head_length=0.03)\n",
    "    ax.text(pc1[i], pc2[i], feature)\n",
    "    \n",
    "fig"
   ]
  },
  {
   "cell_type": "markdown",
   "metadata": {},
   "source": [
    "# Microarray Data"
   ]
  },
  {
   "cell_type": "code",
   "execution_count": null,
   "metadata": {},
   "outputs": [],
   "source": [
    "df = pd.read_csv(\"http://bioinf.ucd.ie/people/aedin/R/full_datasets/khan_train.csv\", index_col=0)"
   ]
  },
  {
   "cell_type": "code",
   "execution_count": null,
   "metadata": {},
   "outputs": [],
   "source": [
    "df = df.T.reset_index()\n",
    "df"
   ]
  },
  {
   "cell_type": "code",
   "execution_count": null,
   "metadata": {},
   "outputs": [],
   "source": [
    "df.columns = [\"Tumor\"] + [f\"Gene_{i}\" for i in range(1,2309)]"
   ]
  },
  {
   "cell_type": "code",
   "execution_count": null,
   "metadata": {},
   "outputs": [],
   "source": [
    "df[\"Tumor\"] = [val.split(\".\")[0] for val in df['Tumor']]\n",
    "df"
   ]
  },
  {
   "cell_type": "code",
   "execution_count": null,
   "metadata": {},
   "outputs": [],
   "source": [
    "scale_df = StandardScaler().fit_transform(df[df.columns[1:]])\n",
    "scale_df"
   ]
  },
  {
   "cell_type": "code",
   "execution_count": null,
   "metadata": {},
   "outputs": [],
   "source": [
    "pca_microarray = PCA(n_components=50)\n",
    "transformed_data = pca_microarray.fit_transform(scale_df)"
   ]
  },
  {
   "cell_type": "code",
   "execution_count": null,
   "metadata": {},
   "outputs": [],
   "source": [
    "sns.barplot(\n",
    "    y = pca_microarray.explained_variance_ratio_,\n",
    "            x = [f'{i}' for i in range(50)]\n",
    ")\n",
    "plt.title('Explained variance of the components', size=18)\n",
    "plt.xlabel('Components', size=15)\n",
    "plt.ylabel('Proportion of Explained Variance', size=15)"
   ]
  },
  {
   "cell_type": "code",
   "execution_count": null,
   "metadata": {},
   "outputs": [],
   "source": [
    "transformed_microarray_df = pd.DataFrame(data = transformed_data, columns=[f'Component_{i}' for i in range(50)])\n",
    "transformed_microarray_df['Tumor'] = df['Tumor']\n",
    "transformed_microarray_df.sample(5)"
   ]
  },
  {
   "cell_type": "code",
   "execution_count": null,
   "metadata": {},
   "outputs": [],
   "source": [
    "# PCA Score Plot\n",
    "\n",
    "fig, ax = plt.subplots(figsize=(10,10))\n",
    "sns.scatterplot(\n",
    "    data = transformed_microarray_df,\n",
    "    x='Component_0',\n",
    "    y='Component_1',\n",
    "    hue = 'Tumor',\n",
    "    s=200\n",
    ")\n",
    "ax.set_xlabel(f\"PC1 - {pca_microarray.explained_variance_ratio_[0]*100:.2f}%\")\n",
    "ax.set_ylabel(f\"PC2 - {pca_microarray.explained_variance_ratio_[1]*100:.2f}%\")\n",
    "ax.set_title(\"PCA Score Plot\")"
   ]
  },
  {
   "cell_type": "code",
   "execution_count": null,
   "metadata": {},
   "outputs": [],
   "source": []
  }
 ],
 "metadata": {
  "kernelspec": {
   "display_name": "DL",
   "language": "python",
   "name": "python3"
  },
  "language_info": {
   "codemirror_mode": {
    "name": "ipython",
    "version": 3
   },
   "file_extension": ".py",
   "mimetype": "text/x-python",
   "name": "python",
   "nbconvert_exporter": "python",
   "pygments_lexer": "ipython3",
   "version": "3.11.7"
  }
 },
 "nbformat": 4,
 "nbformat_minor": 2
}
