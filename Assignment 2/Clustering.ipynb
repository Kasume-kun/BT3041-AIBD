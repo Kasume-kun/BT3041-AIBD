{
  "cells": [
    {
      "cell_type": "markdown",
      "id": "318116db",
      "metadata": {
        "id": "318116db"
      },
      "source": [
        "# Clustering\n",
        "\n",
        "In this session, we will learn how to implement some commonly used clustering techniques. <br>\n",
        "The following topics will be covered:\n",
        "<ul>\n",
        "    <li> k-means clustering </li>\n",
        "    <li> Hierarchical Clustering </li>\n",
        "    <li> Spectral Clustering </li>\n",
        "    <li> Metrics to measure performance </li>\n",
        "\n",
        "</ul>\n",
        "   "
      ]
    },
    {
      "cell_type": "code",
      "execution_count": null,
      "id": "b2ae5d43",
      "metadata": {
        "id": "b2ae5d43"
      },
      "outputs": [],
      "source": [
        "# Importing packages\n",
        "import numpy as np\n",
        "import pandas as pd\n",
        "import matplotlib.pyplot as plt\n",
        "import seaborn as sns\n",
        "import warnings\n",
        "warnings.filterwarnings('ignore')\n",
        "\n",
        "sns.set_theme(style='white', context='notebook', rc={'figure.figsize':(8,8)})"
      ]
    },
    {
      "cell_type": "markdown",
      "id": "7dd84e8a",
      "metadata": {
        "id": "7dd84e8a"
      },
      "source": [
        "# K-means clustering"
      ]
    },
    {
      "cell_type": "markdown",
      "id": "e319aa5c",
      "metadata": {
        "id": "e319aa5c"
      },
      "source": [
        "The goal of the k-means algorithm is to separate the given $N$ samples $X$ into $K$ clusters, $C$. It achieves this by measuring the dissimilarity between clusters, also known as intertia:\n",
        "\n",
        "<center>$\\Large\\sum_{i=0}^{n}\\min_{\\mu_j \\in C}(||x_i - \\mu_j||^2)$</center>"
      ]
    },
    {
      "cell_type": "code",
      "execution_count": null,
      "id": "b4cbb66b",
      "metadata": {
        "colab": {
          "base_uri": "https://localhost:8080/",
          "height": 858
        },
        "id": "b4cbb66b",
        "outputId": "2a89ff86-d5c5-4d92-beba-a674cab7b00f"
      },
      "outputs": [],
      "source": [
        "# Making data\n",
        "from sklearn.datasets import make_blobs, make_circles, make_moons\n",
        "\n",
        "seed = 42\n",
        "\n",
        "blob_x, blob_y = make_blobs(n_samples=1000, centers=4, random_state=seed)\n",
        "circle_x, circle_y = make_circles(n_samples=1000, noise=0.05, factor=0.5, random_state=seed)\n",
        "moon_x, moon_y = make_moons(n_samples=1000, noise=0.05, random_state=seed)\n",
        "\n",
        "fig, ax = plt.subplots(2,2, figsize=(10,10))\n",
        "\n",
        "ax[0,0].set_title(\"Blobs\", size=14)\n",
        "sns.scatterplot(x=blob_x[:,0], y=blob_x[:,1], hue=blob_y, ax=ax[0,0])\n",
        "\n",
        "\n",
        "ax[0,1].set_title(\"Circles\", size=14)\n",
        "sns.scatterplot(x=circle_x[:,0], y=circle_x[:,1],  hue=circle_y, ax=ax[0,1])\n",
        "\n",
        "\n",
        "ax[1,0].set_title(\"Moons\", size=14)\n",
        "sns.scatterplot(x=moon_x[:,0], y=moon_x[:,1], hue=moon_y, ax=ax[1,0])\n",
        "\n",
        "ax[1,1].remove()"
      ]
    },
    {
      "cell_type": "code",
      "execution_count": null,
      "id": "5bee3260",
      "metadata": {
        "id": "5bee3260"
      },
      "outputs": [],
      "source": [
        "from sklearn.cluster import KMeans\n",
        "\n",
        "kmeans = KMeans(\n",
        "    n_clusters=2,\n",
        "    random_state = seed\n",
        ")\n",
        "\n",
        "blob_pred = kmeans.fit_predict(blob_x)\n",
        "circle_pred = kmeans.fit_predict(circle_x)\n",
        "moon_pred = kmeans.fit_predict(moon_x)"
      ]
    },
    {
      "cell_type": "code",
      "execution_count": null,
      "id": "32590863",
      "metadata": {
        "colab": {
          "base_uri": "https://localhost:8080/",
          "height": 858
        },
        "id": "32590863",
        "outputId": "7ccc4cde-d93d-4b90-9bd8-2d17e5d8e835"
      },
      "outputs": [],
      "source": [
        "fig, ax = plt.subplots(2,2, figsize=(10,10))\n",
        "ax[0,0].set_title(\"Blobs\", size=14)\n",
        "sns.scatterplot(x=blob_x[:,0], y=blob_x[:,1], hue=blob_pred, ax=ax[0,0])\n",
        "\n",
        "ax[0,1].set_title(\"Circles\", size=14)\n",
        "sns.scatterplot(x=circle_x[:,0], y=circle_x[:,1],  hue=circle_pred, ax=ax[0,1])\n",
        "\n",
        "ax[1,0].set_title(\"Moons\", size=14)\n",
        "sns.scatterplot(x=moon_x[:,0], y=moon_x[:,1], hue=moon_pred, ax=ax[1,0])\n",
        "\n",
        "\n",
        "ax[1,1].remove()"
      ]
    },
    {
      "cell_type": "markdown",
      "id": "c1966f76",
      "metadata": {
        "id": "c1966f76"
      },
      "source": [
        "# Scoring a clustering"
      ]
    },
    {
      "cell_type": "markdown",
      "id": "cd1723aa",
      "metadata": {
        "id": "cd1723aa"
      },
      "source": [
        "There are two major ways we can score a clustering:\n",
        "\n",
        "<ol>\n",
        "    <li> If we have true values, we check for the concurrence between the predicted clusters and the true clusters. </li>\n",
        "    <li> In the absence of of true values, we must check for the <i>consistency</i> of the clusters </li>\n",
        "</ol>\n",
        "<br>\n",
        "<u><b> Rand score: </b></u> <br>\n",
        "Rand index, essentially, computes the similarity between the predicted clusters and the true clusters. It ranges between 0 and 1. It is computed as: <br> <br>\n",
        "\n",
        "<center> $ \\text{RI} = \\Large\\frac{a + b}{C_2^{n_{samples}}}$ </center>\n",
        "\n",
        "<ul>\n",
        "    <li><b>a</b>: the number of pairs of elements that are in the same set in the true cluster and in the same set in predicted cluster.</li>\n",
        "    <li><b>b</b>: the number of pairs of elements that are in different sets in true cluster and in different sets in predicted cluster. </li>\n",
        "</ul>\n",
        "\n",
        "<u><b> Silhouette score:</b></u><br>\n",
        "Silhouette score explains how well the clusters are separated from one another. It is defined as: <br><br>\n",
        "\n",
        "<center> $\\text{Silhouette score} = \\Large \\frac{b - a}{max(a, b)}$ </center>\n",
        "\n",
        "<ul>\n",
        "    <li><b>a</b>: The mean distance between a sample and all other points in the same class.</li>\n",
        "    <li><b>b</b>: The mean distance between a sample and all other points in the <i>next nearest cluster</i>. </li>\n",
        "</ul>\n",
        "The score is bounded between -1 for incorrect clustering and +1 for highly dense clustering. Scores around zero indicate overlapping clusters."
      ]
    },
    {
      "cell_type": "code",
      "execution_count": null,
      "id": "3c5d83bb",
      "metadata": {
        "colab": {
          "base_uri": "https://localhost:8080/"
        },
        "id": "3c5d83bb",
        "outputId": "3ba0d4dc-ec03-4b7d-ec5c-cc1dd70297ed"
      },
      "outputs": [],
      "source": [
        "# Scoring a clustering\n",
        "\n",
        "from sklearn.metrics import rand_score, silhouette_score, silhouette_samples\n",
        "\n",
        "print(\"Rand_score\")\n",
        "print(\"Blobs: {:.4f}\".format(rand_score(blob_y, blob_pred)))\n",
        "print(\"Circles: {:.4f}\".format(rand_score(circle_y, circle_pred)))\n",
        "print(\"Moons: {:.4f}\".format(rand_score(moon_y, moon_pred)))\n",
        "print(\"\\n\")\n",
        "\n",
        "print(\"Silhouette_score\")\n",
        "print(\"Blobs: {:.4f}\".format(silhouette_score(blob_x, blob_pred)))\n",
        "print(\"Circles: {:.4f}\".format(silhouette_score(circle_x, circle_pred)))\n",
        "print(\"Moons: {:.4f}\".format(silhouette_score(moon_x, moon_pred)))"
      ]
    },
    {
      "cell_type": "markdown",
      "id": "LNBDESTCSh17",
      "metadata": {
        "id": "LNBDESTCSh17"
      },
      "source": [
        "## Choosing the optimal k value"
      ]
    },
    {
      "cell_type": "code",
      "execution_count": null,
      "id": "Vzs5dnx8SYvu",
      "metadata": {
        "colab": {
          "base_uri": "https://localhost:8080/",
          "height": 745
        },
        "id": "Vzs5dnx8SYvu",
        "outputId": "1e4f11bb-0f89-41e8-8ac3-a7965a9fe867"
      },
      "outputs": [],
      "source": [
        "# Perform silhouette analysis\n",
        "# With Blob data\n",
        "silhouette_scores = []\n",
        "\n",
        "for k in range(2, 10):\n",
        "    sample_clusters = KMeans(n_clusters=k, random_state=42).fit_predict(blob_x)\n",
        "    silhouette_scores.append(\n",
        "        np.mean(silhouette_samples(blob_x, sample_clusters))\n",
        "    )\n",
        "\n",
        "plt.bar(np.arange(2,10), silhouette_scores)\n",
        "plt.xlabel(\"# Clusters - K\")\n",
        "plt.ylabel(\"Sillhouette Score\")\n",
        "plt.title(\"Silhouette Analysis - Blobs\")"
      ]
    },
    {
      "cell_type": "markdown",
      "id": "f83de443",
      "metadata": {
        "id": "f83de443"
      },
      "source": [
        "# Hierarchical Clustering"
      ]
    },
    {
      "cell_type": "markdown",
      "id": "07eb1c41",
      "metadata": {
        "id": "07eb1c41"
      },
      "source": [
        "The basic idea behind hierarchical clustering is to build nested clusters of samples. For example, take the following cities: <b>Chennai, Trichy, Madurai, Bengaluru, Mysuru</b>. <br>\n",
        "\n",
        "Two different methods are possible:\n",
        "<ul>\n",
        "    <li> Agglomerative Clustering </li>\n",
        "    <li> Divisive Clustering </li>\n",
        "</ul>\n",
        "\n",
        "The criteria by which we decide on whether or not we merge clusters: <b>Linkage</b>. Linkage can be understood as a distance metric between two <i>clusters</i>. In the Scikit-learn implementation, 4 types of linkages are available:\n",
        "\n",
        "<ul>\n",
        "    <li><b>Maximum</b> or complete linkage minimizes the maximum distance between observations of pairs of clusters.</li>\n",
        "    <li><b>Average</b> linkage minimizes the average of the distances between all observations of pairs of clusters.</li>\n",
        "    <li><b>Single</b> linkage minimizes the distance between the closest observations of pairs of clusters.</li>    \n",
        "    <li><b>Ward</b> linkage minimizes the sum of squared differences within all clusters. </li>\n",
        "</ul>"
      ]
    },
    {
      "cell_type": "code",
      "execution_count": null,
      "id": "faa2e910",
      "metadata": {
        "id": "faa2e910"
      },
      "outputs": [],
      "source": [
        "from sklearn.cluster import AgglomerativeClustering\n",
        "from scipy.cluster.hierarchy import linkage, dendrogram"
      ]
    },
    {
      "cell_type": "code",
      "execution_count": null,
      "id": "bddde559",
      "metadata": {
        "id": "bddde559"
      },
      "outputs": [],
      "source": [
        "clust = AgglomerativeClustering(\n",
        "    n_clusters=None,               # Needs to be None if distance_threshold is used\n",
        "    metric = 'euclidean',\n",
        "    linkage = 'single',\n",
        "    distance_threshold = 0.125     # Select based on distance between points\n",
        ")\n",
        "\n",
        "blob_pred = clust.fit_predict(blob_x, blob_y)\n",
        "circle_pred = clust.fit_predict(circle_x, circle_y)\n",
        "moon_pred = clust.fit_predict(moon_x, moon_y)"
      ]
    },
    {
      "cell_type": "code",
      "execution_count": null,
      "id": "fb1db1c6",
      "metadata": {
        "colab": {
          "base_uri": "https://localhost:8080/",
          "height": 858
        },
        "id": "fb1db1c6",
        "outputId": "6a8d7248-c006-4ade-91ae-cd10067b958f"
      },
      "outputs": [],
      "source": [
        "fig, ax = plt.subplots(2,2, figsize=(10,10))\n",
        "ax[0,0].set_title(\"Blobs\", size=14)\n",
        "sns.scatterplot(x=blob_x[:,0], y=blob_x[:,1], hue=blob_pred, ax=ax[0,0])\n",
        "\n",
        "ax[0,1].set_title(\"Circles\", size=14)\n",
        "sns.scatterplot(x=circle_x[:,0], y=circle_x[:,1],  hue=circle_pred, ax=ax[0,1])\n",
        "\n",
        "ax[1,0].set_title(\"Moons\", size=14)\n",
        "sns.scatterplot(x=moon_x[:,0], y=moon_x[:,1], hue=moon_pred, ax=ax[1,0])\n",
        "\n",
        "\n",
        "ax[1,1].remove()"
      ]
    },
    {
      "cell_type": "code",
      "execution_count": null,
      "id": "85cd2b9e",
      "metadata": {
        "colab": {
          "base_uri": "https://localhost:8080/"
        },
        "id": "85cd2b9e",
        "outputId": "297a504a-065b-4e6c-a636-50d44158b0cd"
      },
      "outputs": [],
      "source": [
        "print(\"Rand_score\")\n",
        "print(\"Blobs: {:.4f}\".format(rand_score(blob_y, blob_pred)))\n",
        "print(\"Circles: {:.4f}\".format(rand_score(circle_y, circle_pred)))\n",
        "print(\"Moons: {:.4f}\".format(rand_score(moon_y, moon_pred)))\n",
        "print(\"\\n\")\n",
        "\n",
        "print(\"Silhouette_score\")\n",
        "print(\"Blobs: {:.4f}\".format(silhouette_score(blob_x, blob_pred)))\n",
        "print(\"Circles: {:.4f}\".format(silhouette_score(circle_x, circle_pred)))\n",
        "print(\"Moons: {:.4f}\".format(silhouette_score(moon_x, moon_pred)))"
      ]
    },
    {
      "cell_type": "code",
      "execution_count": null,
      "id": "827e51b9",
      "metadata": {
        "colab": {
          "base_uri": "https://localhost:8080/",
          "height": 1000
        },
        "id": "827e51b9",
        "outputId": "591368b2-c8d7-413b-f1dd-488bae6c9f47"
      },
      "outputs": [],
      "source": [
        "Z = linkage(\n",
        "    y = blob_x,       # Input\n",
        "    method='average', # Linkage\n",
        "    metric='euclidean'\n",
        ")\n",
        "\n",
        "print(Z)\n",
        "\n",
        "fig, ax = plt.subplots()\n",
        "R = dendrogram(Z, leaf_font_size=2, ax=ax);\n",
        "ax.set_title(\"Dendrgoram of the Clustering - Blobs\", size=14);"
      ]
    },
    {
      "cell_type": "code",
      "execution_count": null,
      "id": "b14ba5d7",
      "metadata": {
        "colab": {
          "base_uri": "https://localhost:8080/",
          "height": 721
        },
        "id": "b14ba5d7",
        "outputId": "f289559b-c776-4ec6-c42b-5c2b4de9d932"
      },
      "outputs": [],
      "source": [
        "Z = linkage(\n",
        "    y = moon_x,\n",
        "    method='single',\n",
        "    metric='euclidean'\n",
        ")\n",
        "\n",
        "fig, ax = plt.subplots()\n",
        "R = dendrogram(Z,  ax=ax);\n",
        "ax.set_title(\"Dendrgoram of the Clustering - Moons\", size=14)"
      ]
    },
    {
      "cell_type": "markdown",
      "id": "8b26bba1",
      "metadata": {
        "id": "8b26bba1"
      },
      "source": [
        "# DBSCAN"
      ]
    },
    {
      "cell_type": "markdown",
      "id": "ddd1b642",
      "metadata": {
        "id": "ddd1b642"
      },
      "source": [
        "DBSCAN - Density Based Scanning\n",
        "\n",
        "Idea - Clustered regions are those with high sample density. Very Generic Definition.\n",
        "\n",
        "- Therefore, can identify arbitrarily shaped clusters\n",
        "- Can also identify outliers, i.e. points which do not fall under any cluster\n",
        "- Requires two parameters:\n",
        "    - `min_samples`: Minimum number of points for group to be cluster\n",
        "    - `eps`: Maximum distance between two points to be considered neighbours"
      ]
    },
    {
      "cell_type": "code",
      "execution_count": null,
      "id": "94658b51",
      "metadata": {
        "id": "94658b51"
      },
      "outputs": [],
      "source": [
        "from sklearn.cluster import DBSCAN\n",
        "\n",
        "clust = DBSCAN(\n",
        "    min_samples=5,\n",
        "    eps=0.15\n",
        ")\n",
        "\n",
        "blob_pred = clust.fit_predict(blob_x, blob_y)\n",
        "circle_pred = clust.fit_predict(circle_x, circle_y)\n",
        "moon_pred = clust.fit_predict(moon_x, moon_y)"
      ]
    },
    {
      "cell_type": "code",
      "execution_count": null,
      "id": "1ed1d74f",
      "metadata": {
        "colab": {
          "base_uri": "https://localhost:8080/",
          "height": 858
        },
        "id": "1ed1d74f",
        "outputId": "dfd3e241-4d2e-4fef-d599-0260745af56c"
      },
      "outputs": [],
      "source": [
        "fig, ax = plt.subplots(2,2, figsize=(10,10))\n",
        "ax[0,0].set_title(\"Blobs\", size=14)\n",
        "sns.scatterplot(x=blob_x[:,0], y=blob_x[:,1], hue=blob_pred, ax=ax[0,0])\n",
        "\n",
        "ax[0,1].set_title(\"Circles\", size=14)\n",
        "sns.scatterplot(x=circle_x[:,0], y=circle_x[:,1],  hue=circle_pred, ax=ax[0,1])\n",
        "\n",
        "ax[1,0].set_title(\"Moons\", size=14)\n",
        "sns.scatterplot(x=moon_x[:,0], y=moon_x[:,1], hue=moon_pred, ax=ax[1,0])\n",
        "\n",
        "\n",
        "ax[1,1].remove()"
      ]
    },
    {
      "cell_type": "code",
      "execution_count": null,
      "id": "4601beaa",
      "metadata": {
        "colab": {
          "base_uri": "https://localhost:8080/"
        },
        "id": "4601beaa",
        "outputId": "64ba2ec9-bebe-45b5-c254-0b75259fc7dd"
      },
      "outputs": [],
      "source": [
        "print(\"Rand_score\")\n",
        "print(\"Blobs: {:.4f}\".format(rand_score(blob_y, blob_pred)))\n",
        "print(\"Circles: {:.4f}\".format(rand_score(circle_y, circle_pred)))\n",
        "print(\"Moons: {:.4f}\".format(rand_score(moon_y, moon_pred)))\n",
        "print(\"\\n\")\n",
        "\n",
        "print(\"Silhouette_score\")\n",
        "print(\"Blobs: {:.4f}\".format(silhouette_score(blob_x, blob_pred)))\n",
        "print(\"Circles: {:.4f}\".format(silhouette_score(circle_x, circle_pred)))\n",
        "print(\"Moons: {:.4f}\".format(silhouette_score(moon_x, moon_pred)))"
      ]
    },
    {
      "cell_type": "code",
      "execution_count": null,
      "id": "ba200b3c",
      "metadata": {
        "id": "ba200b3c"
      },
      "outputs": [],
      "source": []
    },
    {
      "cell_type": "code",
      "execution_count": null,
      "id": "a6e3f050",
      "metadata": {
        "id": "a6e3f050"
      },
      "outputs": [],
      "source": []
    }
  ],
  "metadata": {
    "colab": {
      "provenance": []
    },
    "kernelspec": {
      "display_name": "Python 3 (ipykernel)",
      "language": "python",
      "name": "python3"
    },
    "language_info": {
      "codemirror_mode": {
        "name": "ipython",
        "version": 3
      },
      "file_extension": ".py",
      "mimetype": "text/x-python",
      "name": "python",
      "nbconvert_exporter": "python",
      "pygments_lexer": "ipython3",
      "version": "3.11.7"
    }
  },
  "nbformat": 4,
  "nbformat_minor": 5
}
